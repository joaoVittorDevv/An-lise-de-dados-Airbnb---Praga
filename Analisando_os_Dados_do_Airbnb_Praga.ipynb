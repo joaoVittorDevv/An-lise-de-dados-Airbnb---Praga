{
  "nbformat": 4,
  "nbformat_minor": 0,
  "metadata": {
    "colab": {
      "name": "Analisando os Dados do Airbnb - Praga.ipynb",
      "provenance": [],
      "collapsed_sections": [],
      "include_colab_link": true
    },
    "kernelspec": {
      "name": "python3",
      "display_name": "Python 3"
    }
  },
  "cells": [
    {
      "cell_type": "markdown",
      "metadata": {
        "id": "view-in-github",
        "colab_type": "text"
      },
      "source": [
        "<a href=\"https://colab.research.google.com/github/joaoVittorDevv/An-lise-de-dados-Airbnb---Praga/blob/main/Analisando_os_Dados_do_Airbnb_Praga.ipynb\" target=\"_parent\"><img src=\"https://colab.research.google.com/assets/colab-badge.svg\" alt=\"Open In Colab\"/></a>"
      ]
    },
    {
      "cell_type": "markdown",
      "metadata": {
        "id": "kLI0gJtzDGuQ"
      },
      "source": [
        "<img alt=\"Colaboratory logo\" width=\"15%\" src=\"https://raw.githubusercontent.com/carlosfab/escola-data-science/master/img/novo_logo_bg_claro.png\">\n",
        "\n",
        "#### **Data Science na Prática 3.0**\n",
        "*by [sigmoidal.ai](https://sigmoidal.ai)*\n",
        "\n",
        "---\n",
        "\n",
        "# Análise dos Dados do Airbnb - *Praga*\n",
        "\n",
        "O [Airbnb](https://www.airbnb.com.br/) já é considerado como sendo a **maior empresa hoteleira da atualidade**. Ah, o detalhe é que ele **não possui nenhum hotel**!\n",
        "\n",
        "Conectando pessoas que querem viajar (e se hospedar) com anfitriões que querem alugar seus imóveis de maneira prática, o Airbnb fornece uma plataforma inovadora para tornar essa hospedagem alternativa.\n",
        "\n",
        "No final de 2018, a Startup fundada 10 anos atrás, já havia **hospedado mais de 300 milhões** de pessoas ao redor de todo o mundo, desafiando as redes hoteleiras tradicionais.\n",
        "\n",
        "Uma das iniciativas do Airbnb é disponibilizar dados do site, para algumas das principais cidades do mundo. Por meio do portal [Inside Airbnb](http://insideairbnb.com/get-the-data.html), é possível baixar uma grande quantidade de dados para desenvolver projetos e soluções de *Data Science*.\n",
        "\n",
        "<center><img alt=\"Analisando Airbnb\" width=\"10%\" src=\"https://www.area360.com.au/wp-content/uploads/2017/09/airbnb-logo.jpg\"></center>\n",
        "\n",
        "**Neste *notebook*, iremos analisar os dados referentes à cidade ________, e ver quais insights podem ser extraídos a partir de dados brutos.**"
      ]
    },
    {
      "cell_type": "markdown",
      "metadata": {
        "id": "0zxQHhIUDF_2"
      },
      "source": [
        "## Obtenção dos Dados\n"
      ]
    },
    {
      "cell_type": "code",
      "metadata": {
        "id": "Vhp2wMPgJ6zX",
        "colab": {
          "base_uri": "https://localhost:8080/"
        },
        "outputId": "a046f2cc-a5e0-478f-acc9-5b4cc1691696"
      },
      "source": [
        "!pip install geopandas\n",
        "\n",
        "# importar os pacotes necessarios\n",
        "import pandas as pd\n",
        "import numpy as np\n",
        "import matplotlib.pyplot as plt\n",
        "import seaborn as sns\n",
        "import scipy as scp\n",
        "\n",
        "%matplotlib inline\n"
      ],
      "execution_count": 46,
      "outputs": [
        {
          "output_type": "stream",
          "name": "stdout",
          "text": [
            "Requirement already satisfied: geopandas in /usr/local/lib/python3.7/dist-packages (0.10.2)\n",
            "Requirement already satisfied: fiona>=1.8 in /usr/local/lib/python3.7/dist-packages (from geopandas) (1.8.20)\n",
            "Requirement already satisfied: shapely>=1.6 in /usr/local/lib/python3.7/dist-packages (from geopandas) (1.8.0)\n",
            "Requirement already satisfied: pandas>=0.25.0 in /usr/local/lib/python3.7/dist-packages (from geopandas) (1.1.5)\n",
            "Requirement already satisfied: pyproj>=2.2.0 in /usr/local/lib/python3.7/dist-packages (from geopandas) (3.2.1)\n",
            "Requirement already satisfied: certifi in /usr/local/lib/python3.7/dist-packages (from fiona>=1.8->geopandas) (2021.10.8)\n",
            "Requirement already satisfied: cligj>=0.5 in /usr/local/lib/python3.7/dist-packages (from fiona>=1.8->geopandas) (0.7.2)\n",
            "Requirement already satisfied: six>=1.7 in /usr/local/lib/python3.7/dist-packages (from fiona>=1.8->geopandas) (1.15.0)\n",
            "Requirement already satisfied: munch in /usr/local/lib/python3.7/dist-packages (from fiona>=1.8->geopandas) (2.5.0)\n",
            "Requirement already satisfied: click>=4.0 in /usr/local/lib/python3.7/dist-packages (from fiona>=1.8->geopandas) (7.1.2)\n",
            "Requirement already satisfied: setuptools in /usr/local/lib/python3.7/dist-packages (from fiona>=1.8->geopandas) (57.4.0)\n",
            "Requirement already satisfied: attrs>=17 in /usr/local/lib/python3.7/dist-packages (from fiona>=1.8->geopandas) (21.2.0)\n",
            "Requirement already satisfied: click-plugins>=1.0 in /usr/local/lib/python3.7/dist-packages (from fiona>=1.8->geopandas) (1.1.1)\n",
            "Requirement already satisfied: numpy>=1.15.4 in /usr/local/lib/python3.7/dist-packages (from pandas>=0.25.0->geopandas) (1.19.5)\n",
            "Requirement already satisfied: pytz>=2017.2 in /usr/local/lib/python3.7/dist-packages (from pandas>=0.25.0->geopandas) (2018.9)\n",
            "Requirement already satisfied: python-dateutil>=2.7.3 in /usr/local/lib/python3.7/dist-packages (from pandas>=0.25.0->geopandas) (2.8.2)\n"
          ]
        }
      ]
    },
    {
      "cell_type": "code",
      "metadata": {
        "id": "tUmoAT8DLQ5T"
      },
      "source": [
        "# importar o arquivo listings.csv para um DataFrame\n",
        "df = pd.read_csv('http://data.insideairbnb.com/czech-republic/prague/prague/2021-09-24/visualisations/listings.csv')"
      ],
      "execution_count": 47,
      "outputs": []
    },
    {
      "cell_type": "markdown",
      "metadata": {
        "id": "qb5By2nIMS6m"
      },
      "source": [
        "## Análise dos Dados\n"
      ]
    },
    {
      "cell_type": "code",
      "metadata": {
        "colab": {
          "base_uri": "https://localhost:8080/"
        },
        "id": "_Z2blGmsc-3-",
        "outputId": "89e58499-4b00-4ebc-b976-7baad0f7cdaa"
      },
      "source": [
        "df.columns"
      ],
      "execution_count": 48,
      "outputs": [
        {
          "output_type": "execute_result",
          "data": {
            "text/plain": [
              "Index(['id', 'name', 'host_id', 'host_name', 'neighbourhood_group',\n",
              "       'neighbourhood', 'latitude', 'longitude', 'room_type', 'price',\n",
              "       'minimum_nights', 'number_of_reviews', 'last_review',\n",
              "       'reviews_per_month', 'calculated_host_listings_count',\n",
              "       'availability_365', 'number_of_reviews_ltm', 'license'],\n",
              "      dtype='object')"
            ]
          },
          "metadata": {},
          "execution_count": 48
        }
      ]
    },
    {
      "cell_type": "code",
      "metadata": {
        "colab": {
          "base_uri": "https://localhost:8080/"
        },
        "id": "cOqD2qEKwOsH",
        "outputId": "a903c952-956c-4289-f87f-068a983497e2"
      },
      "source": [
        "df.info() "
      ],
      "execution_count": 49,
      "outputs": [
        {
          "output_type": "stream",
          "name": "stdout",
          "text": [
            "<class 'pandas.core.frame.DataFrame'>\n",
            "RangeIndex: 6785 entries, 0 to 6784\n",
            "Data columns (total 18 columns):\n",
            " #   Column                          Non-Null Count  Dtype  \n",
            "---  ------                          --------------  -----  \n",
            " 0   id                              6785 non-null   int64  \n",
            " 1   name                            6782 non-null   object \n",
            " 2   host_id                         6785 non-null   int64  \n",
            " 3   host_name                       6770 non-null   object \n",
            " 4   neighbourhood_group             0 non-null      float64\n",
            " 5   neighbourhood                   6785 non-null   object \n",
            " 6   latitude                        6785 non-null   float64\n",
            " 7   longitude                       6785 non-null   float64\n",
            " 8   room_type                       6785 non-null   object \n",
            " 9   price                           6785 non-null   int64  \n",
            " 10  minimum_nights                  6785 non-null   int64  \n",
            " 11  number_of_reviews               6785 non-null   int64  \n",
            " 12  last_review                     5812 non-null   object \n",
            " 13  reviews_per_month               5812 non-null   float64\n",
            " 14  calculated_host_listings_count  6785 non-null   int64  \n",
            " 15  availability_365                6785 non-null   int64  \n",
            " 16  number_of_reviews_ltm           6785 non-null   int64  \n",
            " 17  license                         0 non-null      float64\n",
            "dtypes: float64(5), int64(8), object(5)\n",
            "memory usage: 954.3+ KB\n"
          ]
        }
      ]
    },
    {
      "cell_type": "markdown",
      "metadata": {
        "id": "RYgvuebKNg8-"
      },
      "source": [
        "**Dicionário das variáveis**\n",
        "\n",
        "* id - Repesenta o identificador da entrada.\n",
        "* name - Representa o nome dado a acomodação, pelo host.\n",
        "* host_id - Identificador do host`(host é o proprietario, ou quem estão oferecendo a acomodação)`.\n",
        "* host_name - Representa o nome do host.\n",
        "* neighbourhood_group - Representa o grupo em que o bairro esta inserido.\n",
        "* neighbourhood - Nome do bairro.\n",
        "* latitude - Latitude geografica.\n",
        "* longitude - Longitude geografica.\n",
        "* room_type - Qual o tipo da acomodação.\n",
        "* price - Qual o valor da acomodação.\n",
        "* minimum_nights - Numero minimo de noites é aceito pela acomodação.\n",
        "* number_of_reviews  - Quantos reviews a acomodação tem.\n",
        "* last_review - Data em que o ultimo review foi feito.\n",
        "* reviews_per_month - Numero de reviews por mẽs.\n",
        "* calculated_host_listings_count - O número de listagens que o host possui no scrape atual, na geografia da cidade / região. \n",
        "* availability_365 - Numero de dias que a acomodação está disponivel nos proximos 365 dias, em alguns casos os dias podem estar reservados ou bloqueados pelo host.\n",
        "* number_of_reviews_ltm - Numero de reviews nos ultimos 12 meses\n",
        "* license - Numero de registro.\n",
        "\n",
        "Antes de iniciar qualquer análise, vamos verificar a cara do nosso *dataset*, analisando as 5 primeiras entradas."
      ]
    },
    {
      "cell_type": "code",
      "metadata": {
        "id": "2iS_dae7YQtO",
        "colab": {
          "base_uri": "https://localhost:8080/",
          "height": 435
        },
        "outputId": "432bffce-3db3-4020-9496-2e3ae850776f"
      },
      "source": [
        "df.head()"
      ],
      "execution_count": 50,
      "outputs": [
        {
          "output_type": "execute_result",
          "data": {
            "text/html": [
              "<div>\n",
              "<style scoped>\n",
              "    .dataframe tbody tr th:only-of-type {\n",
              "        vertical-align: middle;\n",
              "    }\n",
              "\n",
              "    .dataframe tbody tr th {\n",
              "        vertical-align: top;\n",
              "    }\n",
              "\n",
              "    .dataframe thead th {\n",
              "        text-align: right;\n",
              "    }\n",
              "</style>\n",
              "<table border=\"1\" class=\"dataframe\">\n",
              "  <thead>\n",
              "    <tr style=\"text-align: right;\">\n",
              "      <th></th>\n",
              "      <th>id</th>\n",
              "      <th>name</th>\n",
              "      <th>host_id</th>\n",
              "      <th>host_name</th>\n",
              "      <th>neighbourhood_group</th>\n",
              "      <th>neighbourhood</th>\n",
              "      <th>latitude</th>\n",
              "      <th>longitude</th>\n",
              "      <th>room_type</th>\n",
              "      <th>price</th>\n",
              "      <th>minimum_nights</th>\n",
              "      <th>number_of_reviews</th>\n",
              "      <th>last_review</th>\n",
              "      <th>reviews_per_month</th>\n",
              "      <th>calculated_host_listings_count</th>\n",
              "      <th>availability_365</th>\n",
              "      <th>number_of_reviews_ltm</th>\n",
              "      <th>license</th>\n",
              "    </tr>\n",
              "  </thead>\n",
              "  <tbody>\n",
              "    <tr>\n",
              "      <th>0</th>\n",
              "      <td>3884</td>\n",
              "      <td>Enjoy/relax/hide Old Town Prague</td>\n",
              "      <td>3128</td>\n",
              "      <td>Regina</td>\n",
              "      <td>NaN</td>\n",
              "      <td>Praha 1</td>\n",
              "      <td>50.08411</td>\n",
              "      <td>14.43047</td>\n",
              "      <td>Entire home/apt</td>\n",
              "      <td>1497</td>\n",
              "      <td>5</td>\n",
              "      <td>2</td>\n",
              "      <td>2012-07-13</td>\n",
              "      <td>0.02</td>\n",
              "      <td>1</td>\n",
              "      <td>0</td>\n",
              "      <td>0</td>\n",
              "      <td>NaN</td>\n",
              "    </tr>\n",
              "    <tr>\n",
              "      <th>1</th>\n",
              "      <td>23163</td>\n",
              "      <td>Quiet 1BR directly in the Centre, Air-conditio...</td>\n",
              "      <td>5282</td>\n",
              "      <td>Klara</td>\n",
              "      <td>NaN</td>\n",
              "      <td>Praha 1</td>\n",
              "      <td>50.08229</td>\n",
              "      <td>14.41552</td>\n",
              "      <td>Entire home/apt</td>\n",
              "      <td>3709</td>\n",
              "      <td>1</td>\n",
              "      <td>21</td>\n",
              "      <td>2021-08-08</td>\n",
              "      <td>0.19</td>\n",
              "      <td>46</td>\n",
              "      <td>25</td>\n",
              "      <td>1</td>\n",
              "      <td>NaN</td>\n",
              "    </tr>\n",
              "    <tr>\n",
              "      <th>2</th>\n",
              "      <td>23169</td>\n",
              "      <td>M302-Cozy Serviced Studio in Center</td>\n",
              "      <td>5282</td>\n",
              "      <td>Klara</td>\n",
              "      <td>NaN</td>\n",
              "      <td>Praha 1</td>\n",
              "      <td>50.08830</td>\n",
              "      <td>14.42272</td>\n",
              "      <td>Entire home/apt</td>\n",
              "      <td>2490</td>\n",
              "      <td>1</td>\n",
              "      <td>84</td>\n",
              "      <td>2019-04-30</td>\n",
              "      <td>0.75</td>\n",
              "      <td>46</td>\n",
              "      <td>46</td>\n",
              "      <td>3</td>\n",
              "      <td>NaN</td>\n",
              "    </tr>\n",
              "    <tr>\n",
              "      <th>3</th>\n",
              "      <td>26755</td>\n",
              "      <td>Central Prague Old Town Top Floor</td>\n",
              "      <td>113902</td>\n",
              "      <td>Daniel+Bea</td>\n",
              "      <td>NaN</td>\n",
              "      <td>Praha 1</td>\n",
              "      <td>50.08729</td>\n",
              "      <td>14.43179</td>\n",
              "      <td>Entire home/apt</td>\n",
              "      <td>2030</td>\n",
              "      <td>3</td>\n",
              "      <td>253</td>\n",
              "      <td>2020-01-05</td>\n",
              "      <td>3.31</td>\n",
              "      <td>2</td>\n",
              "      <td>40</td>\n",
              "      <td>1</td>\n",
              "      <td>NaN</td>\n",
              "    </tr>\n",
              "    <tr>\n",
              "      <th>4</th>\n",
              "      <td>27916</td>\n",
              "      <td>Cosy &amp; Quiet Studio - Romantic Stay in Zizkov</td>\n",
              "      <td>120384</td>\n",
              "      <td>Hana</td>\n",
              "      <td>NaN</td>\n",
              "      <td>Praha 3</td>\n",
              "      <td>50.08152</td>\n",
              "      <td>14.45750</td>\n",
              "      <td>Entire home/apt</td>\n",
              "      <td>1079</td>\n",
              "      <td>2</td>\n",
              "      <td>413</td>\n",
              "      <td>2020-01-02</td>\n",
              "      <td>3.53</td>\n",
              "      <td>3</td>\n",
              "      <td>87</td>\n",
              "      <td>0</td>\n",
              "      <td>NaN</td>\n",
              "    </tr>\n",
              "  </tbody>\n",
              "</table>\n",
              "</div>"
            ],
            "text/plain": [
              "      id  ... license\n",
              "0   3884  ...     NaN\n",
              "1  23163  ...     NaN\n",
              "2  23169  ...     NaN\n",
              "3  26755  ...     NaN\n",
              "4  27916  ...     NaN\n",
              "\n",
              "[5 rows x 18 columns]"
            ]
          },
          "metadata": {},
          "execution_count": 50
        }
      ]
    },
    {
      "cell_type": "markdown",
      "metadata": {
        "id": "deU15eap6G8T"
      },
      "source": [
        "Utilizando o `describe()` para obter as informações estatisticas da coluna `number_of_reviews`"
      ]
    },
    {
      "cell_type": "code",
      "metadata": {
        "colab": {
          "base_uri": "https://localhost:8080/"
        },
        "id": "IVll5Sj5zw0c",
        "outputId": "33127907-35d9-4455-86f7-c81b3904ec66"
      },
      "source": [
        "df.number_of_reviews.describe()"
      ],
      "execution_count": 51,
      "outputs": [
        {
          "output_type": "execute_result",
          "data": {
            "text/plain": [
              "count    6785.000000\n",
              "mean       53.116581\n",
              "std        82.798701\n",
              "min         0.000000\n",
              "25%         2.000000\n",
              "50%        16.000000\n",
              "75%        69.000000\n",
              "max       731.000000\n",
              "Name: number_of_reviews, dtype: float64"
            ]
          },
          "metadata": {},
          "execution_count": 51
        }
      ]
    },
    {
      "cell_type": "markdown",
      "metadata": {
        "id": "EeYrau6-8NoQ"
      },
      "source": [
        "É também interessante obter a mediana dos dados através do método `median()`, para em comparação com o a média, ter uma idéia de como os outliers afetam os dados da distribuição"
      ]
    },
    {
      "cell_type": "code",
      "metadata": {
        "colab": {
          "base_uri": "https://localhost:8080/"
        },
        "id": "kdO1lgfN3AAI",
        "outputId": "f4a41371-890c-4193-8f95-6b4b770a1585"
      },
      "source": [
        "df.number_of_reviews.median()"
      ],
      "execution_count": 52,
      "outputs": [
        {
          "output_type": "execute_result",
          "data": {
            "text/plain": [
              "16.0"
            ]
          },
          "metadata": {},
          "execution_count": 52
        }
      ]
    },
    {
      "cell_type": "markdown",
      "metadata": {
        "id": "rB4ZSvuq-nCg"
      },
      "source": [
        "Plotar um histograma é extremamente util para entender como se comporta a curva de cada distribuição"
      ]
    },
    {
      "cell_type": "code",
      "metadata": {
        "colab": {
          "base_uri": "https://localhost:8080/",
          "height": 282
        },
        "id": "R869_f2Q2tQB",
        "outputId": "b3fd29f8-3ce4-49a4-af25-5aadc6c4ae40"
      },
      "source": [
        "df.number_of_reviews.hist()"
      ],
      "execution_count": 53,
      "outputs": [
        {
          "output_type": "execute_result",
          "data": {
            "text/plain": [
              "<matplotlib.axes._subplots.AxesSubplot at 0x7f0ed1bfd490>"
            ]
          },
          "metadata": {},
          "execution_count": 53
        },
        {
          "output_type": "display_data",
          "data": {
            "image/png": "[encoded data removed]",
            "text/plain": [
              "<Figure size 432x288 with 1 Axes>"
            ]
          },
          "metadata": {
            "needs_background": "light"
          }
        }
      ]
    },
    {
      "cell_type": "markdown",
      "metadata": {
        "id": "6-B_qtEaYEd-"
      },
      "source": [
        "### **Q1. Quantos atributos (variáveis) e quantas entradas o nosso conjunto de dados possui? Quais os tipos das variáveis?**"
      ]
    },
    {
      "cell_type": "code",
      "metadata": {
        "id": "TFRK0tniLV-G",
        "colab": {
          "base_uri": "https://localhost:8080/"
        },
        "outputId": "9587da18-fa9d-4dc3-998b-7eda3ad42aa8"
      },
      "source": [
        "df.shape"
      ],
      "execution_count": 54,
      "outputs": [
        {
          "output_type": "execute_result",
          "data": {
            "text/plain": [
              "(6785, 18)"
            ]
          },
          "metadata": {},
          "execution_count": 54
        }
      ]
    },
    {
      "cell_type": "code",
      "metadata": {
        "colab": {
          "base_uri": "https://localhost:8080/",
          "height": 435
        },
        "id": "0OBmmCUW2v7e",
        "outputId": "29f649c7-d6d8-4f83-840a-6ee6bc5142c5"
      },
      "source": [
        "df.head()"
      ],
      "execution_count": 55,
      "outputs": [
        {
          "output_type": "execute_result",
          "data": {
            "text/html": [
              "<div>\n",
              "<style scoped>\n",
              "    .dataframe tbody tr th:only-of-type {\n",
              "        vertical-align: middle;\n",
              "    }\n",
              "\n",
              "    .dataframe tbody tr th {\n",
              "        vertical-align: top;\n",
              "    }\n",
              "\n",
              "    .dataframe thead th {\n",
              "        text-align: right;\n",
              "    }\n",
              "</style>\n",
              "<table border=\"1\" class=\"dataframe\">\n",
              "  <thead>\n",
              "    <tr style=\"text-align: right;\">\n",
              "      <th></th>\n",
              "      <th>id</th>\n",
              "      <th>name</th>\n",
              "      <th>host_id</th>\n",
              "      <th>host_name</th>\n",
              "      <th>neighbourhood_group</th>\n",
              "      <th>neighbourhood</th>\n",
              "      <th>latitude</th>\n",
              "      <th>longitude</th>\n",
              "      <th>room_type</th>\n",
              "      <th>price</th>\n",
              "      <th>minimum_nights</th>\n",
              "      <th>number_of_reviews</th>\n",
              "      <th>last_review</th>\n",
              "      <th>reviews_per_month</th>\n",
              "      <th>calculated_host_listings_count</th>\n",
              "      <th>availability_365</th>\n",
              "      <th>number_of_reviews_ltm</th>\n",
              "      <th>license</th>\n",
              "    </tr>\n",
              "  </thead>\n",
              "  <tbody>\n",
              "    <tr>\n",
              "      <th>0</th>\n",
              "      <td>3884</td>\n",
              "      <td>Enjoy/relax/hide Old Town Prague</td>\n",
              "      <td>3128</td>\n",
              "      <td>Regina</td>\n",
              "      <td>NaN</td>\n",
              "      <td>Praha 1</td>\n",
              "      <td>50.08411</td>\n",
              "      <td>14.43047</td>\n",
              "      <td>Entire home/apt</td>\n",
              "      <td>1497</td>\n",
              "      <td>5</td>\n",
              "      <td>2</td>\n",
              "      <td>2012-07-13</td>\n",
              "      <td>0.02</td>\n",
              "      <td>1</td>\n",
              "      <td>0</td>\n",
              "      <td>0</td>\n",
              "      <td>NaN</td>\n",
              "    </tr>\n",
              "    <tr>\n",
              "      <th>1</th>\n",
              "      <td>23163</td>\n",
              "      <td>Quiet 1BR directly in the Centre, Air-conditio...</td>\n",
              "      <td>5282</td>\n",
              "      <td>Klara</td>\n",
              "      <td>NaN</td>\n",
              "      <td>Praha 1</td>\n",
              "      <td>50.08229</td>\n",
              "      <td>14.41552</td>\n",
              "      <td>Entire home/apt</td>\n",
              "      <td>3709</td>\n",
              "      <td>1</td>\n",
              "      <td>21</td>\n",
              "      <td>2021-08-08</td>\n",
              "      <td>0.19</td>\n",
              "      <td>46</td>\n",
              "      <td>25</td>\n",
              "      <td>1</td>\n",
              "      <td>NaN</td>\n",
              "    </tr>\n",
              "    <tr>\n",
              "      <th>2</th>\n",
              "      <td>23169</td>\n",
              "      <td>M302-Cozy Serviced Studio in Center</td>\n",
              "      <td>5282</td>\n",
              "      <td>Klara</td>\n",
              "      <td>NaN</td>\n",
              "      <td>Praha 1</td>\n",
              "      <td>50.08830</td>\n",
              "      <td>14.42272</td>\n",
              "      <td>Entire home/apt</td>\n",
              "      <td>2490</td>\n",
              "      <td>1</td>\n",
              "      <td>84</td>\n",
              "      <td>2019-04-30</td>\n",
              "      <td>0.75</td>\n",
              "      <td>46</td>\n",
              "      <td>46</td>\n",
              "      <td>3</td>\n",
              "      <td>NaN</td>\n",
              "    </tr>\n",
              "    <tr>\n",
              "      <th>3</th>\n",
              "      <td>26755</td>\n",
              "      <td>Central Prague Old Town Top Floor</td>\n",
              "      <td>113902</td>\n",
              "      <td>Daniel+Bea</td>\n",
              "      <td>NaN</td>\n",
              "      <td>Praha 1</td>\n",
              "      <td>50.08729</td>\n",
              "      <td>14.43179</td>\n",
              "      <td>Entire home/apt</td>\n",
              "      <td>2030</td>\n",
              "      <td>3</td>\n",
              "      <td>253</td>\n",
              "      <td>2020-01-05</td>\n",
              "      <td>3.31</td>\n",
              "      <td>2</td>\n",
              "      <td>40</td>\n",
              "      <td>1</td>\n",
              "      <td>NaN</td>\n",
              "    </tr>\n",
              "    <tr>\n",
              "      <th>4</th>\n",
              "      <td>27916</td>\n",
              "      <td>Cosy &amp; Quiet Studio - Romantic Stay in Zizkov</td>\n",
              "      <td>120384</td>\n",
              "      <td>Hana</td>\n",
              "      <td>NaN</td>\n",
              "      <td>Praha 3</td>\n",
              "      <td>50.08152</td>\n",
              "      <td>14.45750</td>\n",
              "      <td>Entire home/apt</td>\n",
              "      <td>1079</td>\n",
              "      <td>2</td>\n",
              "      <td>413</td>\n",
              "      <td>2020-01-02</td>\n",
              "      <td>3.53</td>\n",
              "      <td>3</td>\n",
              "      <td>87</td>\n",
              "      <td>0</td>\n",
              "      <td>NaN</td>\n",
              "    </tr>\n",
              "  </tbody>\n",
              "</table>\n",
              "</div>"
            ],
            "text/plain": [
              "      id  ... license\n",
              "0   3884  ...     NaN\n",
              "1  23163  ...     NaN\n",
              "2  23169  ...     NaN\n",
              "3  26755  ...     NaN\n",
              "4  27916  ...     NaN\n",
              "\n",
              "[5 rows x 18 columns]"
            ]
          },
          "metadata": {},
          "execution_count": 55
        }
      ]
    },
    {
      "cell_type": "markdown",
      "metadata": {
        "id": "yz1urSUGW9iE"
      },
      "source": [
        "### **Q2. Qual a porcentagem de valores ausentes no *dataset*?**"
      ]
    },
    {
      "cell_type": "code",
      "metadata": {
        "id": "plk2FjbCXOqP",
        "colab": {
          "base_uri": "https://localhost:8080/"
        },
        "outputId": "343f0fc1-c5f1-4020-a392-af6d6c63ea82"
      },
      "source": [
        "100*(df.isna().sum()/ df.shape[0])\n"
      ],
      "execution_count": 56,
      "outputs": [
        {
          "output_type": "execute_result",
          "data": {
            "text/plain": [
              "id                                  0.000000\n",
              "name                                0.044215\n",
              "host_id                             0.000000\n",
              "host_name                           0.221076\n",
              "neighbourhood_group               100.000000\n",
              "neighbourhood                       0.000000\n",
              "latitude                            0.000000\n",
              "longitude                           0.000000\n",
              "room_type                           0.000000\n",
              "price                               0.000000\n",
              "minimum_nights                      0.000000\n",
              "number_of_reviews                   0.000000\n",
              "last_review                        14.340457\n",
              "reviews_per_month                  14.340457\n",
              "calculated_host_listings_count      0.000000\n",
              "availability_365                    0.000000\n",
              "number_of_reviews_ltm               0.000000\n",
              "license                           100.000000\n",
              "dtype: float64"
            ]
          },
          "metadata": {},
          "execution_count": 56
        }
      ]
    },
    {
      "cell_type": "markdown",
      "metadata": {
        "id": "jQBU7IWNEX9l"
      },
      "source": [
        "Com está fórmula podemos verificar qual porcentagem cada coluna tem de dados faltantes, para assim conseguirmos tratar esses dados de forma adequada. No caso as colunas `neighbourhood_group` e `license` saltam aos olhos de cara, por possuirem 100% dos dados ausentes"
      ]
    },
    {
      "cell_type": "markdown",
      "metadata": {
        "id": "iHXvvHIxaoNc"
      },
      "source": [
        "### **Q3. Qual o tipo de distribuição das variáveis?** "
      ]
    },
    {
      "cell_type": "code",
      "metadata": {
        "id": "q2wWSfeRbmBo",
        "colab": {
          "base_uri": "https://localhost:8080/",
          "height": 1000
        },
        "outputId": "48fa6215-4834-48ce-87e3-4bf26bfe009a"
      },
      "source": [
        "df.hist(figsize = (20,20));\n"
      ],
      "execution_count": 57,
      "outputs": [
        {
          "output_type": "display_data",
          "data": {
            "image/png": "[encoded data removed]",
            "text/plain": [
              "<Figure size 1440x1440 with 16 Axes>"
            ]
          },
          "metadata": {
            "needs_background": "light"
          }
        }
      ]
    },
    {
      "cell_type": "markdown",
      "metadata": {
        "id": "530dPdSuFhO3"
      },
      "source": [
        "Nos histogramas de todas as colunas do dataset podemos observar que as colunas `price`, `minimum_nights`, `reviews_per_month`, `number_of_reviews_ltm` tem uma distribuição bem irregular, ou seja, não conseguimos desenhar uma curva a partir dela"
      ]
    },
    {
      "cell_type": "markdown",
      "metadata": {
        "id": "7x4aw1j5wNmn"
      },
      "source": [
        "### **Q4. Qual a média dos preços de aluguel?**"
      ]
    },
    {
      "cell_type": "code",
      "metadata": {
        "id": "ff-8gUahLk-C",
        "colab": {
          "base_uri": "https://localhost:8080/"
        },
        "outputId": "bf04de41-e6af-482b-95bb-65c97afbb2d0"
      },
      "source": [
        "df.price.mean()"
      ],
      "execution_count": 58,
      "outputs": [
        {
          "output_type": "execute_result",
          "data": {
            "text/plain": [
              "7636.763301400148"
            ]
          },
          "metadata": {},
          "execution_count": 58
        }
      ]
    },
    {
      "cell_type": "markdown",
      "metadata": {
        "id": "IXn2oIo5qx-w"
      },
      "source": [
        "### **Q4. Qual a correlação existente entre as variáveis**"
      ]
    },
    {
      "cell_type": "code",
      "metadata": {
        "colab": {
          "base_uri": "https://localhost:8080/"
        },
        "id": "2d1CVGlc-wxF",
        "outputId": "7ae303ec-9b83-463a-d036-5035a2ac629a"
      },
      "source": [
        "df.columns"
      ],
      "execution_count": 59,
      "outputs": [
        {
          "output_type": "execute_result",
          "data": {
            "text/plain": [
              "Index(['id', 'name', 'host_id', 'host_name', 'neighbourhood_group',\n",
              "       'neighbourhood', 'latitude', 'longitude', 'room_type', 'price',\n",
              "       'minimum_nights', 'number_of_reviews', 'last_review',\n",
              "       'reviews_per_month', 'calculated_host_listings_count',\n",
              "       'availability_365', 'number_of_reviews_ltm', 'license'],\n",
              "      dtype='object')"
            ]
          },
          "metadata": {},
          "execution_count": 59
        }
      ]
    },
    {
      "cell_type": "code",
      "metadata": {
        "id": "x2ayzBajqxyd"
      },
      "source": [
        "corr = df[['price', 'minimum_nights', 'number_of_reviews', 'reviews_per_month', 'calculated_host_listings_count', 'availability_365']].corr()"
      ],
      "execution_count": 60,
      "outputs": []
    },
    {
      "cell_type": "code",
      "metadata": {
        "id": "91UujDr6ueqE",
        "colab": {
          "base_uri": "https://localhost:8080/",
          "height": 428
        },
        "outputId": "bafe2b2e-a862-4dda-a0bb-2da8503bd075"
      },
      "source": [
        "sns.heatmap(corr, cmap='RdBu', fmt='.2f', square=True, linecolor='white', annot=True)"
      ],
      "execution_count": 61,
      "outputs": [
        {
          "output_type": "execute_result",
          "data": {
            "text/plain": [
              "<matplotlib.axes._subplots.AxesSubplot at 0x7f0ed0287f90>"
            ]
          },
          "metadata": {},
          "execution_count": 61
        },
        {
          "output_type": "display_data",
          "data": {
            "image/png": "[encoded data removed]",
            "text/plain": [
              "<Figure size 432x288 with 2 Axes>"
            ]
          },
          "metadata": {
            "needs_background": "light"
          }
        }
      ]
    },
    {
      "cell_type": "markdown",
      "metadata": {
        "id": "LdQOQcUUG-Nv"
      },
      "source": [
        "Aqui podemos observar a correlação entre as variáveis numéricas do dataset, correlação é qualquer relação estatística (causal ou não causal) entre duas variáveis quantitativas, onde o grau de correlação é exprimido entre -1 e 1, sendo -1 extremamente negativa e 1 extremamente positiva -> [ref. completa](https://operdata.com.br/blog/coeficientes-de-correlacao/).\n",
        "\n",
        "No nosso caso, podemos observar que as únicas colunas que possuem uma correlação significativa, são `number_of_reviews` e `reviews_per_month`.\n"
      ]
    },
    {
      "cell_type": "markdown",
      "metadata": {
        "id": "7b6RMWpuHKN-"
      },
      "source": [
        "### **Q5. Qual o tipo de imóvel mais alugado no Airbnb?**"
      ]
    },
    {
      "cell_type": "code",
      "metadata": {
        "id": "ueLPNWvPHgfB",
        "colab": {
          "base_uri": "https://localhost:8080/"
        },
        "outputId": "3249d5da-a1a0-48b0-8d27-87b41d1f958b"
      },
      "source": [
        "df.room_type.value_counts()\n"
      ],
      "execution_count": 62,
      "outputs": [
        {
          "output_type": "execute_result",
          "data": {
            "text/plain": [
              "Entire home/apt    5136\n",
              "Private room       1291\n",
              "Hotel room          261\n",
              "Shared room          97\n",
              "Name: room_type, dtype: int64"
            ]
          },
          "metadata": {},
          "execution_count": 62
        }
      ]
    },
    {
      "cell_type": "code",
      "metadata": {
        "id": "EvwoO-XAHhIm",
        "colab": {
          "base_uri": "https://localhost:8080/"
        },
        "outputId": "dc343399-97d9-44be-c447-56f5922ac075"
      },
      "source": [
        "100*(df.room_type.value_counts() / df.shape[0])\n"
      ],
      "execution_count": 63,
      "outputs": [
        {
          "output_type": "execute_result",
          "data": {
            "text/plain": [
              "Entire home/apt    75.696389\n",
              "Private room       19.027266\n",
              "Hotel room          3.846721\n",
              "Shared room         1.429624\n",
              "Name: room_type, dtype: float64"
            ]
          },
          "metadata": {},
          "execution_count": 63
        }
      ]
    },
    {
      "cell_type": "markdown",
      "metadata": {
        "id": "27mkzL4SL5O_"
      },
      "source": [
        "Dentro do contexto principal do dataset, que é o aluguel que acomodações, é interessante obter os dados do tipo de acomodação que é mais alugada, afim de compreender as preferências dos usúarios"
      ]
    },
    {
      "cell_type": "markdown",
      "metadata": {
        "id": "MFa5NbnLJMcd"
      },
      "source": [
        "### **Q6. Qual a localidade mais cara do dataset?**\n",
        "\n"
      ]
    },
    {
      "cell_type": "code",
      "metadata": {
        "id": "MD_xa143JZpi",
        "colab": {
          "base_uri": "https://localhost:8080/"
        },
        "outputId": "f4117394-e557-4832-94d1-17fbdb4761cd"
      },
      "source": [
        "df.groupby(['neighbourhood']).price.mean().sort_values(ascending=False)[:10]"
      ],
      "execution_count": 64,
      "outputs": [
        {
          "output_type": "execute_result",
          "data": {
            "text/plain": [
              "neighbourhood\n",
              "Praha 2      28542.948409\n",
              "Praha 8      10341.110818\n",
              "Kolovraty     4954.000000\n",
              "Vinoř         4400.000000\n",
              "Praha 16      4104.333333\n",
              "Praha 1       3492.456965\n",
              "Praha 7       2908.590476\n",
              "Praha 21      2726.750000\n",
              "Praha 3       2558.650880\n",
              "Praha 10      2304.219298\n",
              "Name: price, dtype: float64"
            ]
          },
          "metadata": {},
          "execution_count": 64
        }
      ]
    },
    {
      "cell_type": "code",
      "metadata": {
        "id": "UxVJqJ_3W59I",
        "colab": {
          "base_uri": "https://localhost:8080/",
          "height": 483
        },
        "outputId": "65a451a5-1a65-40d8-fbf5-9d7d97ce376b"
      },
      "source": [
        "\n",
        "df.plot(kind=\"scatter\", x='longitude', y='latitude', alpha=0.4, c=df['price'], s=8,\n",
        "              cmap=plt.get_cmap('brg'), figsize=(12,8));"
      ],
      "execution_count": 65,
      "outputs": [
        {
          "output_type": "display_data",
          "data": {
            "image/png": "[encoded data removed]",
            "text/plain": [
              "<Figure size 864x576 with 2 Axes>"
            ]
          },
          "metadata": {
            "needs_background": "light"
          }
        }
      ]
    },
    {
      "cell_type": "markdown",
      "metadata": {
        "id": "-gWBysC2SPu0"
      },
      "source": [
        "Além de verificar qual o bairro mais caro do dataset, aqui podemos ver a distribuição dos imóveis na cidade"
      ]
    },
    {
      "cell_type": "markdown",
      "metadata": {
        "id": "vTneAMRUYvr1"
      },
      "source": [
        "### **Q7. Qual é a média do mínimo de noites para aluguel (minimum_nights)?**"
      ]
    },
    {
      "cell_type": "code",
      "metadata": {
        "id": "_VzNhrEgY82N",
        "colab": {
          "base_uri": "https://localhost:8080/"
        },
        "outputId": "468049a0-dc96-421c-8c89-47f7eddb44f0"
      },
      "source": [
        "df.minimum_nights.mean()"
      ],
      "execution_count": 66,
      "outputs": [
        {
          "output_type": "execute_result",
          "data": {
            "text/plain": [
              "4.9518054532056"
            ]
          },
          "metadata": {},
          "execution_count": 66
        }
      ]
    },
    {
      "cell_type": "code",
      "metadata": {
        "colab": {
          "base_uri": "https://localhost:8080/"
        },
        "id": "ImBzQwqX4KlL",
        "outputId": "ab118ad4-e201-4cec-f0e8-25ef49f857e4"
      },
      "source": [
        "df.minimum_nights.median()"
      ],
      "execution_count": 67,
      "outputs": [
        {
          "output_type": "execute_result",
          "data": {
            "text/plain": [
              "2.0"
            ]
          },
          "metadata": {},
          "execution_count": 67
        }
      ]
    },
    {
      "cell_type": "code",
      "metadata": {
        "colab": {
          "base_uri": "https://localhost:8080/"
        },
        "id": "9I2Yl2CIMcQB",
        "outputId": "977773d1-22a7-485c-9c61-dbc713785435"
      },
      "source": [
        "df.minimum_nights.std()"
      ],
      "execution_count": 68,
      "outputs": [
        {
          "output_type": "execute_result",
          "data": {
            "text/plain": [
              "37.20117819712723"
            ]
          },
          "metadata": {},
          "execution_count": 68
        }
      ]
    },
    {
      "cell_type": "markdown",
      "metadata": {
        "id": "2f2LX8V8SeH5"
      },
      "source": [
        "Verificando o número médio de noites de aluguel e comparando com a mediana, podemos compreender que os outliers afetam de forma significativa os dados da distribuição, podemos constatar isso também com base no desvio padrão, que pelo contexto está com um valor bem elevado"
      ]
    },
    {
      "cell_type": "markdown",
      "metadata": {
        "id": "GkvAg623RjoR"
      },
      "source": [
        "### **Tratamento de dados ausentes.**\n"
      ]
    },
    {
      "cell_type": "markdown",
      "metadata": {
        "id": "4OwoqaQDE0R6"
      },
      "source": [
        "Observando a descrição estatística das colunas numéricas do dataset, para tratar dados ausentes que podem prejudicar as próximas etapas."
      ]
    },
    {
      "cell_type": "code",
      "metadata": {
        "colab": {
          "base_uri": "https://localhost:8080/",
          "height": 300
        },
        "id": "SxtddJS5-o-k",
        "outputId": "bf3e86b8-4f44-481d-db2c-51f750a94292"
      },
      "source": [
        "df[['price', 'minimum_nights', 'number_of_reviews', 'reviews_per_month', 'calculated_host_listings_count', 'availability_365']].describe()"
      ],
      "execution_count": 69,
      "outputs": [
        {
          "output_type": "execute_result",
          "data": {
            "text/html": [
              "<div>\n",
              "<style scoped>\n",
              "    .dataframe tbody tr th:only-of-type {\n",
              "        vertical-align: middle;\n",
              "    }\n",
              "\n",
              "    .dataframe tbody tr th {\n",
              "        vertical-align: top;\n",
              "    }\n",
              "\n",
              "    .dataframe thead th {\n",
              "        text-align: right;\n",
              "    }\n",
              "</style>\n",
              "<table border=\"1\" class=\"dataframe\">\n",
              "  <thead>\n",
              "    <tr style=\"text-align: right;\">\n",
              "      <th></th>\n",
              "      <th>price</th>\n",
              "      <th>minimum_nights</th>\n",
              "      <th>number_of_reviews</th>\n",
              "      <th>reviews_per_month</th>\n",
              "      <th>calculated_host_listings_count</th>\n",
              "      <th>availability_365</th>\n",
              "    </tr>\n",
              "  </thead>\n",
              "  <tbody>\n",
              "    <tr>\n",
              "      <th>count</th>\n",
              "      <td>6.785000e+03</td>\n",
              "      <td>6785.000000</td>\n",
              "      <td>6785.000000</td>\n",
              "      <td>5812.000000</td>\n",
              "      <td>6785.000000</td>\n",
              "      <td>6785.000000</td>\n",
              "    </tr>\n",
              "    <tr>\n",
              "      <th>mean</th>\n",
              "      <td>7.636763e+03</td>\n",
              "      <td>4.951805</td>\n",
              "      <td>53.116581</td>\n",
              "      <td>1.641056</td>\n",
              "      <td>12.486514</td>\n",
              "      <td>173.207664</td>\n",
              "    </tr>\n",
              "    <tr>\n",
              "      <th>std</th>\n",
              "      <td>9.278644e+04</td>\n",
              "      <td>37.201178</td>\n",
              "      <td>82.798701</td>\n",
              "      <td>1.984703</td>\n",
              "      <td>18.532158</td>\n",
              "      <td>134.349899</td>\n",
              "    </tr>\n",
              "    <tr>\n",
              "      <th>min</th>\n",
              "      <td>0.000000e+00</td>\n",
              "      <td>1.000000</td>\n",
              "      <td>0.000000</td>\n",
              "      <td>0.010000</td>\n",
              "      <td>1.000000</td>\n",
              "      <td>0.000000</td>\n",
              "    </tr>\n",
              "    <tr>\n",
              "      <th>25%</th>\n",
              "      <td>1.060000e+03</td>\n",
              "      <td>1.000000</td>\n",
              "      <td>2.000000</td>\n",
              "      <td>0.330000</td>\n",
              "      <td>1.000000</td>\n",
              "      <td>51.000000</td>\n",
              "    </tr>\n",
              "    <tr>\n",
              "      <th>50%</th>\n",
              "      <td>1.580000e+03</td>\n",
              "      <td>2.000000</td>\n",
              "      <td>16.000000</td>\n",
              "      <td>1.000000</td>\n",
              "      <td>4.000000</td>\n",
              "      <td>157.000000</td>\n",
              "    </tr>\n",
              "    <tr>\n",
              "      <th>75%</th>\n",
              "      <td>2.588000e+03</td>\n",
              "      <td>2.000000</td>\n",
              "      <td>69.000000</td>\n",
              "      <td>2.422500</td>\n",
              "      <td>16.000000</td>\n",
              "      <td>320.000000</td>\n",
              "    </tr>\n",
              "    <tr>\n",
              "      <th>max</th>\n",
              "      <td>2.059174e+06</td>\n",
              "      <td>1000.000000</td>\n",
              "      <td>731.000000</td>\n",
              "      <td>56.690000</td>\n",
              "      <td>91.000000</td>\n",
              "      <td>365.000000</td>\n",
              "    </tr>\n",
              "  </tbody>\n",
              "</table>\n",
              "</div>"
            ],
            "text/plain": [
              "              price  ...  availability_365\n",
              "count  6.785000e+03  ...       6785.000000\n",
              "mean   7.636763e+03  ...        173.207664\n",
              "std    9.278644e+04  ...        134.349899\n",
              "min    0.000000e+00  ...          0.000000\n",
              "25%    1.060000e+03  ...         51.000000\n",
              "50%    1.580000e+03  ...        157.000000\n",
              "75%    2.588000e+03  ...        320.000000\n",
              "max    2.059174e+06  ...        365.000000\n",
              "\n",
              "[8 rows x 6 columns]"
            ]
          },
          "metadata": {},
          "execution_count": 69
        }
      ]
    },
    {
      "cell_type": "code",
      "metadata": {
        "colab": {
          "base_uri": "https://localhost:8080/"
        },
        "id": "b6vEp3nNKQG6",
        "outputId": "cfe9ae91-557d-4b07-9b1d-cd975863399c"
      },
      "source": [
        "df[['price', 'minimum_nights', 'number_of_reviews', 'reviews_per_month', 'calculated_host_listings_count', 'availability_365']].median()"
      ],
      "execution_count": 70,
      "outputs": [
        {
          "output_type": "execute_result",
          "data": {
            "text/plain": [
              "price                             1580.0\n",
              "minimum_nights                       2.0\n",
              "number_of_reviews                   16.0\n",
              "reviews_per_month                    1.0\n",
              "calculated_host_listings_count       4.0\n",
              "availability_365                   157.0\n",
              "dtype: float64"
            ]
          },
          "metadata": {},
          "execution_count": 70
        }
      ]
    },
    {
      "cell_type": "markdown",
      "metadata": {
        "id": "_z0ZPX1mPNZh"
      },
      "source": [
        "Após uma análise dos dados, foi verificado que a coluna `reviews_per_month` apresenta dados ausentes."
      ]
    },
    {
      "cell_type": "code",
      "metadata": {
        "colab": {
          "base_uri": "https://localhost:8080/",
          "height": 69
        },
        "id": "QCQg2Wx-JE32",
        "outputId": "02a1c29d-e8ad-407a-9650-934f057b2212"
      },
      "source": [
        "df.loc[df.reviews_per_month == 0]"
      ],
      "execution_count": 71,
      "outputs": [
        {
          "output_type": "execute_result",
          "data": {
            "text/html": [
              "<div>\n",
              "<style scoped>\n",
              "    .dataframe tbody tr th:only-of-type {\n",
              "        vertical-align: middle;\n",
              "    }\n",
              "\n",
              "    .dataframe tbody tr th {\n",
              "        vertical-align: top;\n",
              "    }\n",
              "\n",
              "    .dataframe thead th {\n",
              "        text-align: right;\n",
              "    }\n",
              "</style>\n",
              "<table border=\"1\" class=\"dataframe\">\n",
              "  <thead>\n",
              "    <tr style=\"text-align: right;\">\n",
              "      <th></th>\n",
              "      <th>id</th>\n",
              "      <th>name</th>\n",
              "      <th>host_id</th>\n",
              "      <th>host_name</th>\n",
              "      <th>neighbourhood_group</th>\n",
              "      <th>neighbourhood</th>\n",
              "      <th>latitude</th>\n",
              "      <th>longitude</th>\n",
              "      <th>room_type</th>\n",
              "      <th>price</th>\n",
              "      <th>minimum_nights</th>\n",
              "      <th>number_of_reviews</th>\n",
              "      <th>last_review</th>\n",
              "      <th>reviews_per_month</th>\n",
              "      <th>calculated_host_listings_count</th>\n",
              "      <th>availability_365</th>\n",
              "      <th>number_of_reviews_ltm</th>\n",
              "      <th>license</th>\n",
              "    </tr>\n",
              "  </thead>\n",
              "  <tbody>\n",
              "  </tbody>\n",
              "</table>\n",
              "</div>"
            ],
            "text/plain": [
              "Empty DataFrame\n",
              "Columns: [id, name, host_id, host_name, neighbourhood_group, neighbourhood, latitude, longitude, room_type, price, minimum_nights, number_of_reviews, last_review, reviews_per_month, calculated_host_listings_count, availability_365, number_of_reviews_ltm, license]\n",
              "Index: []"
            ]
          },
          "metadata": {},
          "execution_count": 71
        }
      ]
    },
    {
      "cell_type": "code",
      "metadata": {
        "colab": {
          "base_uri": "https://localhost:8080/"
        },
        "id": "Qw8HI82gQN8N",
        "outputId": "59e38734-5c6a-4336-f05c-7a04e8ac397d"
      },
      "source": [
        "df.number_of_reviews.loc[df.number_of_reviews == 0].count()"
      ],
      "execution_count": 72,
      "outputs": [
        {
          "output_type": "execute_result",
          "data": {
            "text/plain": [
              "973"
            ]
          },
          "metadata": {},
          "execution_count": 72
        }
      ]
    },
    {
      "cell_type": "markdown",
      "metadata": {
        "id": "9XeYyJAtQMto"
      },
      "source": [
        "Foi observado que dentro do contexto do dataset, nenhum dos dados não ausentes possui o valor 0, o que leva a conclusão que os dados ausentes provavelmente tem o valor 0, já que a coluna `number_of_reviews` que possui uma correlação relativa com a coluna em questão, apresenta o mesmo numero de valores 0, que os valores ausentes de `reviews_per_month`"
      ]
    },
    {
      "cell_type": "code",
      "metadata": {
        "id": "3pgCT3IeRSeD"
      },
      "source": [
        "df.reviews_per_month.fillna(0, inplace=True)"
      ],
      "execution_count": 73,
      "outputs": []
    },
    {
      "cell_type": "code",
      "metadata": {
        "colab": {
          "base_uri": "https://localhost:8080/",
          "height": 300
        },
        "id": "-kh7ZBc4RZob",
        "outputId": "978894eb-073e-4570-ab0b-fe6e9691d042"
      },
      "source": [
        "df[['price', 'minimum_nights', 'number_of_reviews', 'reviews_per_month', 'calculated_host_listings_count', 'availability_365']].describe()"
      ],
      "execution_count": 74,
      "outputs": [
        {
          "output_type": "execute_result",
          "data": {
            "text/html": [
              "<div>\n",
              "<style scoped>\n",
              "    .dataframe tbody tr th:only-of-type {\n",
              "        vertical-align: middle;\n",
              "    }\n",
              "\n",
              "    .dataframe tbody tr th {\n",
              "        vertical-align: top;\n",
              "    }\n",
              "\n",
              "    .dataframe thead th {\n",
              "        text-align: right;\n",
              "    }\n",
              "</style>\n",
              "<table border=\"1\" class=\"dataframe\">\n",
              "  <thead>\n",
              "    <tr style=\"text-align: right;\">\n",
              "      <th></th>\n",
              "      <th>price</th>\n",
              "      <th>minimum_nights</th>\n",
              "      <th>number_of_reviews</th>\n",
              "      <th>reviews_per_month</th>\n",
              "      <th>calculated_host_listings_count</th>\n",
              "      <th>availability_365</th>\n",
              "    </tr>\n",
              "  </thead>\n",
              "  <tbody>\n",
              "    <tr>\n",
              "      <th>count</th>\n",
              "      <td>6.785000e+03</td>\n",
              "      <td>6785.000000</td>\n",
              "      <td>6785.000000</td>\n",
              "      <td>6785.000000</td>\n",
              "      <td>6785.000000</td>\n",
              "      <td>6785.000000</td>\n",
              "    </tr>\n",
              "    <tr>\n",
              "      <th>mean</th>\n",
              "      <td>7.636763e+03</td>\n",
              "      <td>4.951805</td>\n",
              "      <td>53.116581</td>\n",
              "      <td>1.405721</td>\n",
              "      <td>12.486514</td>\n",
              "      <td>173.207664</td>\n",
              "    </tr>\n",
              "    <tr>\n",
              "      <th>std</th>\n",
              "      <td>9.278644e+04</td>\n",
              "      <td>37.201178</td>\n",
              "      <td>82.798701</td>\n",
              "      <td>1.924825</td>\n",
              "      <td>18.532158</td>\n",
              "      <td>134.349899</td>\n",
              "    </tr>\n",
              "    <tr>\n",
              "      <th>min</th>\n",
              "      <td>0.000000e+00</td>\n",
              "      <td>1.000000</td>\n",
              "      <td>0.000000</td>\n",
              "      <td>0.000000</td>\n",
              "      <td>1.000000</td>\n",
              "      <td>0.000000</td>\n",
              "    </tr>\n",
              "    <tr>\n",
              "      <th>25%</th>\n",
              "      <td>1.060000e+03</td>\n",
              "      <td>1.000000</td>\n",
              "      <td>2.000000</td>\n",
              "      <td>0.120000</td>\n",
              "      <td>1.000000</td>\n",
              "      <td>51.000000</td>\n",
              "    </tr>\n",
              "    <tr>\n",
              "      <th>50%</th>\n",
              "      <td>1.580000e+03</td>\n",
              "      <td>2.000000</td>\n",
              "      <td>16.000000</td>\n",
              "      <td>0.750000</td>\n",
              "      <td>4.000000</td>\n",
              "      <td>157.000000</td>\n",
              "    </tr>\n",
              "    <tr>\n",
              "      <th>75%</th>\n",
              "      <td>2.588000e+03</td>\n",
              "      <td>2.000000</td>\n",
              "      <td>69.000000</td>\n",
              "      <td>2.090000</td>\n",
              "      <td>16.000000</td>\n",
              "      <td>320.000000</td>\n",
              "    </tr>\n",
              "    <tr>\n",
              "      <th>max</th>\n",
              "      <td>2.059174e+06</td>\n",
              "      <td>1000.000000</td>\n",
              "      <td>731.000000</td>\n",
              "      <td>56.690000</td>\n",
              "      <td>91.000000</td>\n",
              "      <td>365.000000</td>\n",
              "    </tr>\n",
              "  </tbody>\n",
              "</table>\n",
              "</div>"
            ],
            "text/plain": [
              "              price  ...  availability_365\n",
              "count  6.785000e+03  ...       6785.000000\n",
              "mean   7.636763e+03  ...        173.207664\n",
              "std    9.278644e+04  ...        134.349899\n",
              "min    0.000000e+00  ...          0.000000\n",
              "25%    1.060000e+03  ...         51.000000\n",
              "50%    1.580000e+03  ...        157.000000\n",
              "75%    2.588000e+03  ...        320.000000\n",
              "max    2.059174e+06  ...        365.000000\n",
              "\n",
              "[8 rows x 6 columns]"
            ]
          },
          "metadata": {},
          "execution_count": 74
        }
      ]
    },
    {
      "cell_type": "markdown",
      "metadata": {
        "id": "zoLGR1Q3RmnO"
      },
      "source": [
        "Também foi observado um grande outlier no Q4 das seguintes colunas `price`, `minimum_nights`, `number_of_reviews`, `reviews_per_month`."
      ]
    },
    {
      "cell_type": "markdown",
      "metadata": {
        "id": "rbZ3Hsy9Ypw8"
      },
      "source": [
        "### **Conclusão.**"
      ]
    },
    {
      "cell_type": "markdown",
      "metadata": {
        "id": "zP8lyAhOUceZ"
      },
      "source": [
        "Através de uma análise exploratória inicial, pode-se identificar algumas colunas com distribuição irregular e outliers.\n",
        "\n",
        "Também foram verificados dados ausentes em 4 colunas, sendo os dados faltantes da coluna `reviews_per_month` constatados como 0 e assim tratados na mesma.\n",
        "\n",
        "Com o dataset também é possível identificar a preferência dos usuários por *Entire home/apt*, representando 75.69% das locações. E também a distribuição dos imóveis, focada principalmente em uma região só. "
      ]
    }
  ]
}